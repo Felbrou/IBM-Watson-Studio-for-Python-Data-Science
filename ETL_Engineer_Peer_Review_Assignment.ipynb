{
    "cells": [
        {
            "metadata": {},
            "cell_type": "markdown",
            "source": "<p style=\"text-align:center\">\n    <a href=\"https://skills.network/?utm_medium=Exinfluencer&utm_source=Exinfluencer&utm_content=000026UJ&utm_term=10006555&utm_id=NA-SkillsNetwork-Channel-SkillsNetworkCoursesIBMDeveloperSkillsNetworkPY0221ENSkillsNetwork23455645-2022-01-01\" target=\"_blank\">\n    <img src=\"https://cf-courses-data.s3.us.cloud-object-storage.appdomain.cloud/assets/logos/SN_web_lightmode.png\" width=\"200\" alt=\"Skills Network Logo\"  />\n    </a>\n</p>\n"
        },
        {
            "metadata": {},
            "cell_type": "markdown",
            "source": "# Peer Review Assignment - Data Engineer - ETL\n"
        },
        {
            "metadata": {},
            "cell_type": "markdown",
            "source": "Estimated time needed: **20** minutes\n"
        },
        {
            "metadata": {},
            "cell_type": "markdown",
            "source": "## Objectives\n\nIn this final part you will:\n\n*   Run the ETL process\n*   Extract bank and market cap data from the JSON file `bank_market_cap.json`\n*   Transform the market cap currency using the exchange rate data\n*   Load the transformed data into a seperate CSV\n"
        },
        {
            "metadata": {},
            "cell_type": "markdown",
            "source": "For this lab, we are going to be using Python and several Python libraries. Some of these libraries might be installed in your lab environment or in SN Labs. Others may need to be installed by you. The cells below will install these libraries when executed.\n"
        },
        {
            "metadata": {},
            "cell_type": "code",
            "source": "!mamba install pandas==1.3.3 -y\n!mamba install requests==2.26.0 -y",
            "execution_count": 20,
            "outputs": [
                {
                    "output_type": "stream",
                    "text": "\n                  __    __    __    __\n                 /  \\  /  \\  /  \\  /  \\\n                /    \\/    \\/    \\/    \\\n\u2588\u2588\u2588\u2588\u2588\u2588\u2588\u2588\u2588\u2588\u2588\u2588\u2588\u2588\u2588/  /\u2588\u2588/  /\u2588\u2588/  /\u2588\u2588/  /\u2588\u2588\u2588\u2588\u2588\u2588\u2588\u2588\u2588\u2588\u2588\u2588\u2588\u2588\u2588\u2588\u2588\u2588\u2588\u2588\u2588\u2588\u2588\u2588\n              /  / \\   / \\   / \\   / \\  \\____\n             /  /   \\_/   \\_/   \\_/   \\    o \\__,\n            / _/                       \\_____/  `\n            |/\n        \u2588\u2588\u2588\u2557   \u2588\u2588\u2588\u2557 \u2588\u2588\u2588\u2588\u2588\u2557 \u2588\u2588\u2588\u2557   \u2588\u2588\u2588\u2557\u2588\u2588\u2588\u2588\u2588\u2588\u2557  \u2588\u2588\u2588\u2588\u2588\u2557\n        \u2588\u2588\u2588\u2588\u2557 \u2588\u2588\u2588\u2588\u2551\u2588\u2588\u2554\u2550\u2550\u2588\u2588\u2557\u2588\u2588\u2588\u2588\u2557 \u2588\u2588\u2588\u2588\u2551\u2588\u2588\u2554\u2550\u2550\u2588\u2588\u2557\u2588\u2588\u2554\u2550\u2550\u2588\u2588\u2557\n        \u2588\u2588\u2554\u2588\u2588\u2588\u2588\u2554\u2588\u2588\u2551\u2588\u2588\u2588\u2588\u2588\u2588\u2588\u2551\u2588\u2588\u2554\u2588\u2588\u2588\u2588\u2554\u2588\u2588\u2551\u2588\u2588\u2588\u2588\u2588\u2588\u2554\u255d\u2588\u2588\u2588\u2588\u2588\u2588\u2588\u2551\n        \u2588\u2588\u2551\u255a\u2588\u2588\u2554\u255d\u2588\u2588\u2551\u2588\u2588\u2554\u2550\u2550\u2588\u2588\u2551\u2588\u2588\u2551\u255a\u2588\u2588\u2554\u255d\u2588\u2588\u2551\u2588\u2588\u2554\u2550\u2550\u2588\u2588\u2557\u2588\u2588\u2554\u2550\u2550\u2588\u2588\u2551\n        \u2588\u2588\u2551 \u255a\u2550\u255d \u2588\u2588\u2551\u2588\u2588\u2551  \u2588\u2588\u2551\u2588\u2588\u2551 \u255a\u2550\u255d \u2588\u2588\u2551\u2588\u2588\u2588\u2588\u2588\u2588\u2554\u255d\u2588\u2588\u2551  \u2588\u2588\u2551\n        \u255a\u2550\u255d     \u255a\u2550\u255d\u255a\u2550\u255d  \u255a\u2550\u255d\u255a\u2550\u255d     \u255a\u2550\u255d\u255a\u2550\u2550\u2550\u2550\u2550\u255d \u255a\u2550\u255d  \u255a\u2550\u255d\n\n        mamba (0.27.0) supported by @QuantStack\n\n        GitHub:  https://github.com/mamba-org/mamba\n        Twitter: https://twitter.com/QuantStack\n\n\u2588\u2588\u2588\u2588\u2588\u2588\u2588\u2588\u2588\u2588\u2588\u2588\u2588\u2588\u2588\u2588\u2588\u2588\u2588\u2588\u2588\u2588\u2588\u2588\u2588\u2588\u2588\u2588\u2588\u2588\u2588\u2588\u2588\u2588\u2588\u2588\u2588\u2588\u2588\u2588\u2588\u2588\u2588\u2588\u2588\u2588\u2588\u2588\u2588\u2588\u2588\u2588\u2588\u2588\u2588\u2588\u2588\u2588\u2588\u2588\u2588\n\n\nLooking for: ['pandas==1.3.3']\n\n\u001b[?25l\u001b[2K\u001b[0G[+] 0.0s\n\u001b[2K\u001b[1A\u001b[2K\u001b[0Gopt/ibm/custom-channels/meta-wscloud/linux-64      129.0 B @   2.1MB/s  0.0s\nopt/ibm/custom-channels/meta-wscloud/noarch         12.9kB @ 184.8MB/s  0.0s\nopt/ibm/custom-channels/placebo-20220915-noarch/..  ??.?MB @  ??.?MB/s 0 failed  0.0s\nopt/ibm/custom-channels/placebo-20220915-noarch/..   3.6kB @  64.0MB/s  0.0s\n[+] 0.1s\npkgs/main/linux-64 \u001b[90m\u2501\u2501\u2501\u2501\u2501\u2501\u2501\u2501\u2501\u2501\u2501\u2578\u001b[0m\u001b[33m\u2501\u2501\u2501\u2501\u2501\u2501\u2501\u2501\u2501\u2501\u2501\u2501\u2501\u001b[0m   0.0 B /  ??.?MB @  ??.?MB/s  0.1s\npkgs/main/noarch   \u001b[90m\u2501\u2501\u2501\u2501\u2501\u2501\u2578\u001b[0m\u001b[33m\u2501\u2501\u2501\u2501\u2501\u2501\u2501\u2501\u2501\u2501\u2501\u2501\u2501\u2501\u2501\u2578\u001b[0m\u001b[90m\u2501\u2501\u001b[0m   0.0 B /  ??.?MB @  ??.?MB/s  0.1s\u001b[2K\u001b[1A\u001b[2K\u001b[1A\u001b[2K\u001b[0G[+] 0.2s\npkgs/main/linux-64 \u001b[90m\u2501\u2501\u2501\u2501\u2501\u2501\u2501\u2501\u2501\u2501\u2501\u2501\u2578\u001b[0m\u001b[33m\u2501\u2501\u2501\u2501\u2501\u2501\u2501\u2501\u2501\u2501\u2501\u2501\u001b[0m   0.0 B /  ??.?MB @  ??.?MB/s  0.2s\npkgs/main/noarch   \u001b[90m\u2501\u2501\u2501\u2501\u2501\u2501\u2501\u2578\u001b[0m\u001b[33m\u2501\u2501\u2501\u2501\u2501\u2501\u2501\u2501\u2501\u2501\u2501\u2501\u2501\u2501\u2501\u2578\u001b[0m\u001b[90m\u2501\u001b[0m   0.0 B /  ??.?MB @  ??.?MB/s  0.2s\u001b[2K\u001b[1A\u001b[2K\u001b[1A\u001b[2K\u001b[0G[+] 0.3s\npkgs/main/linux-64 \u001b[90m\u2501\u2501\u2501\u2501\u2501\u2501\u2501\u2501\u2501\u2501\u2501\u2501\u2501\u2501\u2578\u001b[0m\u001b[33m\u2501\u2501\u2501\u2501\u2501\u2501\u2501\u2501\u2501\u2501\u001b[0m   0.0 B /  ??.?MB @  ??.?MB/s  0.3s\npkgs/main/noarch   \u001b[90m\u2501\u2501\u2501\u2501\u2501\u2501\u2501\u2501\u2501\u2578\u001b[0m\u001b[33m\u2501\u2501\u2501\u2501\u2501\u2501\u2501\u2501\u2501\u2501\u2501\u2501\u2501\u2501\u2501\u001b[0m   0.0 B /  ??.?MB @  ??.?MB/s  0.3s\u001b[2K\u001b[1A\u001b[2K\u001b[1A\u001b[2K\u001b[0G[+] 0.4s\npkgs/main/linux-64 \u001b[90m\u2501\u2501\u2501\u2501\u2501\u2501\u2501\u2501\u2501\u2501\u2501\u2501\u2501\u2501\u2501\u2578\u001b[0m\u001b[33m\u2501\u2501\u2501\u2501\u2501\u2501\u2501\u2501\u2501\u001b[0m   0.0 B /  ??.?MB @  ??.?MB/s  0.4s\npkgs/main/noarch   \u001b[90m\u2501\u2501\u2501\u2501\u2501\u2501\u2501\u2501\u2501\u2501\u2578\u001b[0m\u001b[33m\u2501\u2501\u2501\u2501\u2501\u2501\u2501\u2501\u2501\u2501\u2501\u2501\u2501\u2501\u001b[0m   0.0 B /  ??.?MB @  ??.?MB/s  0.4s\u001b[2K\u001b[1A\u001b[2K\u001b[1A\u001b[2K\u001b[0G[+] 0.5s\npkgs/main/linux-64 \u001b[33m\u2501\u2501\u2501\u2501\u2501\u2501\u2501\u2501\u2578\u001b[0m\u001b[90m\u2501\u2501\u2501\u2501\u2501\u2501\u2501\u2501\u2501\u2501\u2501\u2501\u2501\u2501\u2501\u2501\u001b[0m   0.0 B /  ??.?MB @  ??.?MB/s  0.5s\npkgs/main/noarch   \u001b[90m\u2501\u2501\u2501\u2501\u2501\u2501\u2501\u2501\u2501\u2501\u2501\u2578\u001b[0m\u001b[33m\u2501\u2501\u2501\u2501\u2501\u2501\u2501\u2501\u2501\u2501\u2501\u2501\u2501\u001b[0m   0.0 B /  ??.?MB @  ??.?MB/s  0.5s\u001b[2K\u001b[1A\u001b[2K\u001b[1A\u001b[2K\u001b[0G[+] 0.6s\npkgs/main/linux-64 \u001b[33m\u2501\u2501\u2501\u2501\u2501\u2501\u2501\u2501\u2501\u2578\u001b[0m\u001b[90m\u2501\u2501\u2501\u2501\u2501\u2501\u2501\u2501\u2501\u2501\u2501\u2501\u2501\u2501\u2501\u001b[0m   0.0 B /  ??.?MB @  ??.?MB/s  0.6s\npkgs/main/noarch   \u001b[90m\u2501\u2501\u2501\u2501\u2501\u2501\u2501\u2501\u2501\u2501\u2501\u2501\u2578\u001b[0m\u001b[33m\u2501\u2501\u2501\u2501\u2501\u2501\u2501\u2501\u2501\u2501\u2501\u2501\u001b[0m   0.0 B /  ??.?MB @  ??.?MB/s  0.6s\u001b[2K\u001b[1A\u001b[2K\u001b[1A\u001b[2K\u001b[0G[+] 0.7s\npkgs/main/linux-64 \u001b[33m\u2501\u2501\u2501\u2501\u2501\u2501\u2501\u2501\u2501\u2578\u001b[0m\u001b[90m\u2501\u2501\u2501\u2501\u2501\u2501\u2501\u2501\u2501\u2501\u2501\u2501\u2501\u2501\u2501\u001b[0m   0.0 B /  ??.?MB @  ??.?MB/s  0.7s\npkgs/main/noarch   \u001b[90m\u2501\u2501\u2501\u2501\u2501\u2501\u2501\u2501\u2501\u2501\u2501\u2501\u2578\u001b[0m\u001b[33m\u2501\u2501\u2501\u2501\u2501\u2501\u2501\u2501\u2501\u2501\u2501\u2501\u001b[0m   0.0 B /  ??.?MB @  ??.?MB/s  0.7s\u001b[2K\u001b[1A\u001b[2K\u001b[1A\u001b[2K\u001b[0G[+] 0.8s\npkgs/main/linux-64 \u001b[33m\u2501\u2501\u2501\u2501\u2501\u2501\u2501\u2501\u2501\u2501\u2578\u001b[0m\u001b[90m\u2501\u2501\u2501\u2501\u2501\u2501\u2501\u2501\u2501\u2501\u2501\u2501\u2501\u2501\u001b[0m   0.0 B /  ??.?MB @  ??.?MB/s  0.8s\npkgs/main/noarch   \u001b[90m\u2501\u2501\u2501\u2501\u2501\u2501\u2501\u2501\u2501\u2501\u2501\u2501\u2501\u2578\u001b[0m\u001b[33m\u2501\u2501\u2501\u2501\u2501\u2501\u2501\u2501\u2501\u2501\u2501\u001b[0m   0.0 B /  ??.?MB @  ??.?MB/s  0.8s\u001b[2K\u001b[1A\u001b[2K\u001b[1A\u001b[2K\u001b[0G[+] 0.9s\npkgs/main/linux-64 \u001b[33m\u2501\u2501\u2501\u2501\u2501\u2501\u2501\u2501\u2501\u2501\u2578\u001b[0m\u001b[90m\u2501\u2501\u2501\u2501\u2501\u2501\u2501\u2501\u2501\u2501\u2501\u2501\u2501\u2501\u001b[0m   0.0 B /  ??.?MB @  ??.?MB/s  0.9s\npkgs/main/noarch   \u001b[90m\u2501\u2501\u2501\u2501\u2501\u2501\u2501\u2501\u2501\u2501\u2501\u2501\u2501\u2578\u001b[0m\u001b[33m\u2501\u2501\u2501\u2501\u2501\u2501\u2501\u2501\u2501\u2501\u2501\u001b[0m   0.0 B /  ??.?MB @  ??.?MB/s  0.9s\u001b[2K\u001b[1A\u001b[2K\u001b[1A\u001b[2K\u001b[0G[+] 1.0s\npkgs/main/linux-64 \u001b[33m\u2501\u2501\u2501\u2501\u2501\u2501\u2501\u2501\u2501\u2501\u2501\u2501\u2578\u001b[0m\u001b[90m\u2501\u2501\u2501\u2501\u2501\u2501\u2501\u2501\u2501\u2501\u2501\u2501\u001b[0m   0.0 B /  ??.?MB @  ??.?MB/s  1.0s\npkgs/main/noarch   \u001b[90m\u2501\u2501\u2501\u2501\u2501\u2501\u2501\u2501\u2501\u2501\u2501\u2501\u2501\u2501\u2501\u2578\u001b[0m\u001b[33m\u2501\u2501\u2501\u2501\u2501\u2501\u2501\u2501\u2501\u001b[0m   0.0 B /  ??.?MB @  ??.?MB/s  1.0s\u001b[2K\u001b[1A\u001b[2K\u001b[1A\u001b[2K\u001b[0G[+] 1.1s\npkgs/main/linux-64 \u001b[33m\u2501\u2501\u2501\u2501\u2501\u2501\u2501\u2501\u2501\u2501\u2501\u2501\u2578\u001b[0m\u001b[90m\u2501\u2501\u2501\u2501\u2501\u2501\u2501\u2501\u2501\u2501\u2501\u2501\u001b[0m   0.0 B /  ??.?MB @  ??.?MB/s  1.1s\npkgs/main/noarch   \u001b[90m\u2501\u2501\u2501\u2501\u2501\u2501\u2501\u2501\u2501\u2501\u2501\u2501\u2501\u2501\u2501\u2578\u001b[0m\u001b[33m\u2501\u2501\u2501\u2501\u2501\u2501\u2501\u2501\u2501\u001b[0m   0.0 B /  ??.?MB @  ??.?MB/s  1.1s\u001b[2K\u001b[1A\u001b[2K\u001b[1A\u001b[2K\u001b[0G[+] 1.2s\npkgs/main/linux-64 \u001b[33m\u2501\u2501\u2501\u2501\u2501\u2501\u2501\u2501\u2501\u2501\u2501\u2501\u2578\u001b[0m\u001b[90m\u2501\u2501\u2501\u2501\u2501\u2501\u2501\u2501\u2501\u2501\u2501\u2501\u001b[0m   0.0 B /  ??.?MB @  ??.?MB/s  1.2s\npkgs/main/noarch   \u001b[90m\u2501\u2501\u2501\u2501\u2501\u2501\u2501\u2501\u2501\u2501\u2501\u2501\u2501\u2501\u2501\u2578\u001b[0m\u001b[33m\u2501\u2501\u2501\u2501\u2501\u2501\u2501\u2501\u2501\u001b[0m   0.0 B /  ??.?MB @  ??.?MB/s  1.2s\u001b[2K\u001b[1A\u001b[2K\u001b[1A\u001b[2K\u001b[0G[+] 1.3s\npkgs/main/linux-64 \u001b[33m\u2501\u2501\u2501\u2501\u2501\u2501\u2501\u2501\u2501\u2501\u2501\u2501\u2578\u001b[0m\u001b[90m\u2501\u2501\u2501\u2501\u2501\u2501\u2501\u2501\u2501\u2501\u2501\u2501\u001b[0m   0.0 B /  ??.?MB @  ??.?MB/s  1.3s\npkgs/main/noarch   \u001b[90m\u2501\u2501\u2501\u2501\u2501\u2501\u2501\u2501\u2501\u2501\u2501\u2501\u2501\u2501\u2501\u2578\u001b[0m\u001b[33m\u2501\u2501\u2501\u2501\u2501\u2501\u2501\u2501\u2501\u001b[0m   0.0 B /  ??.?MB @  ??.?MB/s  1.3s\u001b[2K\u001b[1A\u001b[2K\u001b[1A\u001b[2K\u001b[0G[+] 1.4s\npkgs/main/linux-64 \u001b[33m\u2501\u2501\u2501\u2501\u2501\u2501\u2501\u2501\u2501\u2501\u2501\u2501\u2501\u2578\u001b[0m\u001b[90m\u2501\u2501\u2501\u2501\u2501\u2501\u2501\u2501\u2501\u2501\u2501\u001b[0m   0.0 B /  ??.?MB @  ??.?MB/s  1.4s\npkgs/main/noarch   \u001b[33m\u2501\u2501\u2501\u2501\u2501\u2501\u2501\u2501\u2578\u001b[0m\u001b[90m\u2501\u2501\u2501\u2501\u2501\u2501\u2501\u2501\u2501\u2501\u2501\u2501\u2501\u2501\u2501\u2501\u001b[0m   0.0 B /  ??.?MB @  ??.?MB/s  1.4s\u001b[2K\u001b[1A\u001b[2K\u001b[1A\u001b[2K\u001b[0G[+] 1.5s\npkgs/main/linux-64 \u001b[33m\u2501\u2501\u2501\u2501\u2501\u2501\u2501\u2501\u2501\u2501\u2501\u2501\u2501\u2578\u001b[0m\u001b[90m\u2501\u2501\u2501\u2501\u2501\u2501\u2501\u2501\u2501\u2501\u2501\u001b[0m   0.0 B /  ??.?MB @  ??.?MB/s  1.5s\npkgs/main/noarch   \u001b[33m\u2501\u2501\u2501\u2501\u2501\u2501\u2501\u2501\u2578\u001b[0m\u001b[90m\u2501\u2501\u2501\u2501\u2501\u2501\u2501\u2501\u2501\u2501\u2501\u2501\u2501\u2501\u2501\u2501\u001b[0m   0.0 B /  ??.?MB @  ??.?MB/s  1.5s\u001b[2K\u001b[1A\u001b[2K\u001b[1A\u001b[2K\u001b[0G[+] 1.6s\npkgs/main/linux-64 \u001b[33m\u2501\u2501\u2501\u2501\u2501\u2501\u2501\u2501\u2501\u2501\u2501\u2501\u2501\u2578\u001b[0m\u001b[90m\u2501\u2501\u2501\u2501\u2501\u2501\u2501\u2501\u2501\u2501\u2501\u001b[0m   0.0 B /  ??.?MB @  ??.?MB/s  1.6s\npkgs/main/noarch   \u001b[33m\u2501\u2501\u2501\u2501\u2501\u2501\u2501\u2501\u2578\u001b[0m\u001b[90m\u2501\u2501\u2501\u2501\u2501\u2501\u2501\u2501\u2501\u2501\u2501\u2501\u2501\u2501\u2501\u2501\u001b[0m   0.0 B /  ??.?MB @  ??.?MB/s  1.6s\u001b[2K\u001b[1A\u001b[2K\u001b[1A\u001b[2K\u001b[0G[+] 1.7s\npkgs/main/linux-64 \u001b[33m\u2501\u2501\u2501\u2501\u2501\u2501\u2501\u2501\u2501\u2501\u2501\u2501\u2501\u2501\u2578\u001b[0m\u001b[90m\u2501\u2501\u2501\u2501\u2501\u2501\u2501\u2501\u2501\u2501\u001b[0m   0.0 B /  ??.?MB @  ??.?MB/s  1.7s\npkgs/main/noarch   \u001b[33m\u2501\u2501\u2501\u2501\u2501\u2501\u2501\u2501\u2501\u2578\u001b[0m\u001b[90m\u2501\u2501\u2501\u2501\u2501\u2501\u2501\u2501\u2501\u2501\u2501\u2501\u2501\u2501\u2501\u001b[0m   0.0 B /  ??.?MB @  ??.?MB/s  1.7s\u001b[2K\u001b[1A\u001b[2K\u001b[1A\u001b[2K\u001b[0G[+] 1.8s\npkgs/main/linux-64 \u001b[33m\u2501\u2501\u2501\u2501\u2501\u2501\u2501\u2501\u2501\u2501\u2501\u2501\u2501\u2501\u2578\u001b[0m\u001b[90m\u2501\u2501\u2501\u2501\u2501\u2501\u2501\u2501\u2501\u2501\u001b[0m   0.0 B /  ??.?MB @  ??.?MB/s  1.8s\npkgs/main/noarch   \u001b[33m\u2501\u2501\u2501\u2501\u2501\u2501\u2501\u2501\u2501\u2578\u001b[0m\u001b[90m\u2501\u2501\u2501\u2501\u2501\u2501\u2501\u2501\u2501\u2501\u2501\u2501\u2501\u2501\u2501\u001b[0m   0.0 B /  ??.?MB @  ??.?MB/s  1.8s\u001b[2K\u001b[1A\u001b[2K\u001b[1A\u001b[2K\u001b[0G[+] 1.9s\npkgs/main/linux-64 \u001b[33m\u2501\u2501\u2501\u2501\u2501\u2501\u2501\u2501\u2501\u2501\u2501\u2501\u2501\u2501\u2578\u001b[0m\u001b[90m\u2501\u2501\u2501\u2501\u2501\u2501\u2501\u2501\u2501\u2501\u001b[0m   0.0 B /  ??.?MB @  ??.?MB/s  1.9s\npkgs/main/noarch   \u001b[33m\u2501\u2501\u2501\u2501\u2501\u2501\u2501\u2501\u2501\u2578\u001b[0m\u001b[90m\u2501\u2501\u2501\u2501\u2501\u2501\u2501\u2501\u2501\u2501\u2501\u2501\u2501\u2501\u2501\u001b[0m   0.0 B /  ??.?MB @  ??.?MB/s  1.9s\u001b[2K\u001b[1A\u001b[2K\u001b[1A\u001b[2K\u001b[0G[+] 2.0s\npkgs/main/linux-64 \u001b[33m\u2501\u2501\u2501\u2501\u2501\u2501\u2501\u2501\u2501\u2501\u2501\u2501\u2501\u2501\u2578\u001b[0m\u001b[90m\u2501\u2501\u2501\u2501\u2501\u2501\u2501\u2501\u2501\u2501\u001b[0m   0.0 B /  ??.?MB @  ??.?MB/s  2.0s\npkgs/main/noarch   \u001b[33m\u2501\u2501\u2501\u2501\u2501\u2501\u2501\u2501\u2501\u2578\u001b[0m\u001b[90m\u2501\u2501\u2501\u2501\u2501\u2501\u2501\u2501\u2501\u2501\u2501\u2501\u2501\u2501\u2501\u001b[0m   0.0 B /  ??.?MB @  ??.?MB/s  2.0s\u001b[2K\u001b[1A\u001b[2K\u001b[1A\u001b[2K\u001b[0G[+] 2.1s\npkgs/main/linux-64 \u001b[90m\u2578\u001b[0m\u001b[33m\u2501\u2501\u2501\u2501\u2501\u2501\u2501\u2501\u2501\u2501\u2501\u2501\u2501\u2501\u2501\u2578\u001b[0m\u001b[90m\u2501\u2501\u2501\u2501\u2501\u2501\u2501\u2501\u001b[0m   0.0 B /  ??.?MB @  ??.?MB/s  2.1s\npkgs/main/noarch   \u001b[33m\u2501\u2501\u2501\u2501\u2501\u2501\u2501\u2501\u2501\u2501\u2501\u2578\u001b[0m\u001b[90m\u2501\u2501\u2501\u2501\u2501\u2501\u2501\u2501\u2501\u2501\u2501\u2501\u2501\u001b[0m 481.0 B /  ??.?MB @ 232.0 B/s  2.1s\u001b[2K\u001b[1A\u001b[2K\u001b[1A\u001b[2K\u001b[0G[+] 2.2s\npkgs/main/linux-64 \u001b[90m\u2501\u2501\u2501\u2578\u001b[0m\u001b[33m\u2501\u2501\u2501\u2501\u2501\u2501\u2501\u2501\u2501\u2501\u2501\u2501\u2501\u2501\u2501\u2578\u001b[0m\u001b[90m\u2501\u2501\u2501\u2501\u2501\u001b[0m 417.8kB /  ??.?MB @ 192.4kB/s  2.2s\npkgs/main/noarch   \u001b[33m\u2501\u2501\u2501\u2501\u2501\u2501\u2501\u2501\u2501\u2501\u2501\u2501\u2501\u2501\u2578\u001b[0m\u001b[90m\u2501\u2501\u2501\u2501\u2501\u2501\u2501\u2501\u2501\u2501\u001b[0m 569.4kB /  ??.?MB @ 262.2kB/s  2.2s\u001b[2K\u001b[1A\u001b[2K\u001b[1A\u001b[2K\u001b[0Gpkgs/main/noarch                                   818.9kB @ 369.6kB/s  2.2s\n[+] 2.3s\npkgs/main/linux-64 \u001b[90m\u2501\u2501\u2501\u2501\u2501\u2578\u001b[0m\u001b[33m\u2501\u2501\u2501\u2501\u2501\u2501\u2501\u2501\u2501\u2501\u2501\u2501\u2501\u2501\u2501\u2578\u001b[0m\u001b[90m\u2501\u2501\u2501\u001b[0m   1.0MB /  ??.?MB @ 445.8kB/s  2.3s\u001b[2K\u001b[1A\u001b[2K\u001b[0G[+] 2.4s\npkgs/main/linux-64 \u001b[90m\u2501\u2501\u2501\u2501\u2501\u2501\u2501\u2501\u2578\u001b[0m\u001b[33m\u2501\u2501\u2501\u2501\u2501\u2501\u2501\u2501\u2501\u2501\u2501\u2501\u2501\u2501\u2501\u2501\u001b[0m   1.6MB /  ??.?MB @ 677.7kB/s  2.4s\u001b[2K\u001b[1A\u001b[2K\u001b[0G[+] 2.5s\npkgs/main/linux-64 \u001b[90m\u2501\u2501\u2501\u2501\u2501\u2501\u2501\u2501\u2501\u2501\u2578\u001b[0m\u001b[33m\u2501\u2501\u2501\u2501\u2501\u2501\u2501\u2501\u2501\u2501\u2501\u2501\u2501\u2501\u001b[0m   2.2MB /  ??.?MB @ 889.3kB/s  2.5s\u001b[2K\u001b[1A\u001b[2K\u001b[0G[+] 2.6s\npkgs/main/linux-64 \u001b[90m\u2501\u2501\u2501\u2501\u2501\u2501\u2501\u2501\u2501\u2501\u2501\u2501\u2578\u001b[0m\u001b[33m\u2501\u2501\u2501\u2501\u2501\u2501\u2501\u2501\u2501\u2501\u2501\u2501\u001b[0m   2.7MB /  ??.?MB @   1.1MB/s  2.6s\u001b[2K\u001b[1A\u001b[2K\u001b[0G[+] 2.7s\npkgs/main/linux-64 \u001b[90m\u2501\u2501\u2501\u2501\u2501\u2501\u2501\u2501\u2501\u2501\u2501\u2501\u2501\u2501\u2501\u2578\u001b[0m\u001b[33m\u2501\u2501\u2501\u2501\u2501\u2501\u2501\u2501\u2501\u001b[0m   3.3MB /  ??.?MB @   1.2MB/s  2.7s\u001b[2K\u001b[1A\u001b[2K\u001b[0G[+] 2.8s\npkgs/main/linux-64 \u001b[33m\u2501\u2501\u2501\u2501\u2501\u2501\u2501\u2501\u2501\u2578\u001b[0m\u001b[90m\u2501\u2501\u2501\u2501\u2501\u2501\u2501\u2501\u2501\u2501\u2501\u2501\u2501\u2501\u2501\u001b[0m   3.9MB /  ??.?MB @   1.4MB/s  2.8s\u001b[2K\u001b[1A\u001b[2K\u001b[0G[+] 2.9s\npkgs/main/linux-64 \u001b[33m\u2501\u2501\u2501\u2501\u2501\u2501\u2501\u2501\u2501\u2501\u2501\u2501\u2578\u001b[0m\u001b[90m\u2501\u2501\u2501\u2501\u2501\u2501\u2501\u2501\u2501\u2501\u2501\u2501\u001b[0m   4.5MB /  ??.?MB @   1.6MB/s  2.9s\u001b[2K\u001b[1A\u001b[2K\u001b[0G[+] 3.0s\npkgs/main/linux-64 \u001b[33m\u2501\u2501\u2501\u2501\u2501\u2501\u2501\u2501\u2501\u2501\u2501\u2501\u2501\u2501\u2578\u001b[0m\u001b[90m\u2501\u2501\u2501\u2501\u2501\u2501\u2501\u2501\u2501\u2501\u001b[0m   5.1MB /  ??.?MB @   1.7MB/s  3.0s\u001b[2K\u001b[1A\u001b[2K\u001b[0G[+] 3.1s\npkgs/main/linux-64 \u001b[33m\u2501\u2501\u2501\u2501\u2501\u2501\u2501\u2501\u2501\u2501\u2501\u2501\u2501\u2501\u2578\u001b[0m\u001b[90m\u2501\u2501\u2501\u2501\u2501\u2501\u2501\u2501\u2501\u2501\u001b[0m   5.1MB /  ??.?MB @   1.7MB/s  3.1s\u001b[2K\u001b[1A\u001b[2K\u001b[0G[+] 3.2s\npkgs/main/linux-64 \u001b[33m\u2501\u2501\u2501\u2501\u2501\u2501\u2501\u2501\u2501\u2501\u2501\u2501\u2501\u2501\u2578\u001b[0m\u001b[90m\u2501\u2501\u2501\u2501\u2501\u2501\u2501\u2501\u2501\u2501\u001b[0m   5.1MB /  ??.?MB @   1.7MB/s  3.2s\u001b[2K\u001b[1A\u001b[2K\u001b[0G[+] 3.3s\npkgs/main/linux-64 \u001b[33m\u2501\u2501\u2501\u2501\u2501\u2501\u2501\u2501\u2501\u2501\u2501\u2501\u2501\u2501\u2578\u001b[0m\u001b[90m\u2501\u2501\u2501\u2501\u2501\u2501\u2501\u2501\u2501\u2501\u001b[0m   5.1MB /  ??.?MB @   1.7MB/s  3.3s\u001b[2K\u001b[1A\u001b[2K\u001b[0G[+] 3.4s\npkgs/main/linux-64 \u001b[33m\u2501\u2501\u2501\u2501\u2501\u2501\u2501\u2501\u2501\u2501\u2501\u2501\u2501\u2501\u2578\u001b[0m\u001b[90m\u2501\u2501\u2501\u2501\u2501\u2501\u2501\u2501\u2501\u2501\u001b[0m   5.1MB /  ??.?MB @   1.7MB/s  3.4s\u001b[2K\u001b[1A\u001b[2K\u001b[0G[+] 3.5s\npkgs/main/linux-64 \u001b[33m\u2501\u2501\u2501\u2501\u2501\u2501\u2501\u2501\u2501\u2501\u2501\u2501\u2501\u2501\u2578\u001b[0m\u001b[90m\u2501\u2501\u2501\u2501\u2501\u2501\u2501\u2501\u2501\u2501\u001b[0m   5.1MB /  ??.?MB @   1.7MB/s  3.5s\u001b[2K\u001b[1A\u001b[2K\u001b[0G[+] 3.6s\npkgs/main/linux-64 \u001b[33m\u2501\u2501\u2501\u2501\u2501\u2501\u2501\u2501\u2501\u2501\u2501\u2501\u2501\u2501\u2578\u001b[0m\u001b[90m\u2501\u2501\u2501\u2501\u2501\u2501\u2501\u2501\u2501\u2501\u001b[0m   5.1MB /  ??.?MB @   1.7MB/s  3.6s\u001b[2K\u001b[1A\u001b[2K\u001b[0G[+] 3.7s\n",
                    "name": "stdout"
                },
                {
                    "output_type": "stream",
                    "text": "pkgs/main/linux-64 \u001b[33m\u2501\u2501\u2501\u2501\u2501\u2501\u2501\u2501\u2501\u2501\u2501\u2501\u2501\u2501\u2578\u001b[0m\u001b[90m\u2501\u2501\u2501\u2501\u2501\u2501\u2501\u2501\u2501\u2501\u001b[0m   5.1MB /  ??.?MB @   1.7MB/s  3.7s\u001b[2K\u001b[1A\u001b[2K\u001b[0G[+] 3.8s\npkgs/main/linux-64 \u001b[33m\u2501\u2501\u2501\u2501\u2501\u2501\u2501\u2501\u2501\u2501\u2501\u2501\u2501\u2501\u2578\u001b[0m\u001b[90m\u2501\u2501\u2501\u2501\u2501\u2501\u2501\u2501\u2501\u2501\u001b[0m   5.1MB /  ??.?MB @   1.7MB/s  3.8s\u001b[2K\u001b[1A\u001b[2K\u001b[0G[+] 3.9s\npkgs/main/linux-64 \u001b[33m\u2501\u2501\u2501\u2501\u2501\u2501\u2501\u2501\u2501\u2501\u2501\u2501\u2501\u2501\u2578\u001b[0m\u001b[90m\u2501\u2501\u2501\u2501\u2501\u2501\u2501\u2501\u2501\u2501\u001b[0m   5.1MB /  ??.?MB @   1.7MB/s  3.9s\u001b[2K\u001b[1A\u001b[2K\u001b[0G[+] 4.0s\npkgs/main/linux-64 \u001b[33m\u2501\u2501\u2501\u2501\u2501\u2501\u2501\u2501\u2501\u2501\u2501\u2501\u2501\u2501\u2578\u001b[0m\u001b[90m\u2501\u2501\u2501\u2501\u2501\u2501\u2501\u2501\u2501\u2501\u001b[0m   5.1MB /  ??.?MB @   1.7MB/s  4.0s\u001b[2K\u001b[1A\u001b[2K\u001b[0Gpkgs/main/linux-64                                   5.2MB @   1.3MB/s  4.1s\n\u001b[?25h\nPinned packages:\n  - python 3.10.*\n  - python 3.10.*\n  - widgetsnbextension 3.5.2.*\n\n\nEncountered problems while solving:\n  - package pandas-1.3.3-py39h8c16a72_0 requires python >=3.9,<3.10.0a0, but none of the providers can be installed\n\n\n                  __    __    __    __\n                 /  \\  /  \\  /  \\  /  \\\n                /    \\/    \\/    \\/    \\\n\u2588\u2588\u2588\u2588\u2588\u2588\u2588\u2588\u2588\u2588\u2588\u2588\u2588\u2588\u2588/  /\u2588\u2588/  /\u2588\u2588/  /\u2588\u2588/  /\u2588\u2588\u2588\u2588\u2588\u2588\u2588\u2588\u2588\u2588\u2588\u2588\u2588\u2588\u2588\u2588\u2588\u2588\u2588\u2588\u2588\u2588\u2588\u2588\n              /  / \\   / \\   / \\   / \\  \\____\n             /  /   \\_/   \\_/   \\_/   \\    o \\__,\n            / _/                       \\_____/  `\n            |/\n        \u2588\u2588\u2588\u2557   \u2588\u2588\u2588\u2557 \u2588\u2588\u2588\u2588\u2588\u2557 \u2588\u2588\u2588\u2557   \u2588\u2588\u2588\u2557\u2588\u2588\u2588\u2588\u2588\u2588\u2557  \u2588\u2588\u2588\u2588\u2588\u2557\n        \u2588\u2588\u2588\u2588\u2557 \u2588\u2588\u2588\u2588\u2551\u2588\u2588\u2554\u2550\u2550\u2588\u2588\u2557\u2588\u2588\u2588\u2588\u2557 \u2588\u2588\u2588\u2588\u2551\u2588\u2588\u2554\u2550\u2550\u2588\u2588\u2557\u2588\u2588\u2554\u2550\u2550\u2588\u2588\u2557\n        \u2588\u2588\u2554\u2588\u2588\u2588\u2588\u2554\u2588\u2588\u2551\u2588\u2588\u2588\u2588\u2588\u2588\u2588\u2551\u2588\u2588\u2554\u2588\u2588\u2588\u2588\u2554\u2588\u2588\u2551\u2588\u2588\u2588\u2588\u2588\u2588\u2554\u255d\u2588\u2588\u2588\u2588\u2588\u2588\u2588\u2551\n        \u2588\u2588\u2551\u255a\u2588\u2588\u2554\u255d\u2588\u2588\u2551\u2588\u2588\u2554\u2550\u2550\u2588\u2588\u2551\u2588\u2588\u2551\u255a\u2588\u2588\u2554\u255d\u2588\u2588\u2551\u2588\u2588\u2554\u2550\u2550\u2588\u2588\u2557\u2588\u2588\u2554\u2550\u2550\u2588\u2588\u2551\n        \u2588\u2588\u2551 \u255a\u2550\u255d \u2588\u2588\u2551\u2588\u2588\u2551  \u2588\u2588\u2551\u2588\u2588\u2551 \u255a\u2550\u255d \u2588\u2588\u2551\u2588\u2588\u2588\u2588\u2588\u2588\u2554\u255d\u2588\u2588\u2551  \u2588\u2588\u2551\n        \u255a\u2550\u255d     \u255a\u2550\u255d\u255a\u2550\u255d  \u255a\u2550\u255d\u255a\u2550\u255d     \u255a\u2550\u255d\u255a\u2550\u2550\u2550\u2550\u2550\u255d \u255a\u2550\u255d  \u255a\u2550\u255d\n\n        mamba (0.27.0) supported by @QuantStack\n\n        GitHub:  https://github.com/mamba-org/mamba\n        Twitter: https://twitter.com/QuantStack\n\n\u2588\u2588\u2588\u2588\u2588\u2588\u2588\u2588\u2588\u2588\u2588\u2588\u2588\u2588\u2588\u2588\u2588\u2588\u2588\u2588\u2588\u2588\u2588\u2588\u2588\u2588\u2588\u2588\u2588\u2588\u2588\u2588\u2588\u2588\u2588\u2588\u2588\u2588\u2588\u2588\u2588\u2588\u2588\u2588\u2588\u2588\u2588\u2588\u2588\u2588\u2588\u2588\u2588\u2588\u2588\u2588\u2588\u2588\u2588\u2588\u2588\n\n\nLooking for: ['requests==2.26.0']\n\npkgs/main/linux-64                                          Using cache\npkgs/main/noarch                                            Using cache\n\u001b[?25l\u001b[2K\u001b[0G[+] 0.0s\nopt/ibm/custom-channels/meta-wscloud/linux-64 \u001b[90m\u2501\u2501\u2501\u2501\u2501\u2578\u001b[0m\u001b[33m\u2501\u2501\u2501\u2501\u2501\u2501\u2501\u2501\u2501\u2501\u2501\u2501\u2501\u2501\u001b[0m   0.0 B  0.0s\u001b[2K\u001b[1A\u001b[2K\u001b[0Gopt/ibm/custom-channels/meta-wscloud/linux-64       0.0s\nopt/ibm/custom-channels/meta-wscloud/noarch         12.9kB @ 187.4MB/s  0.0s\nopt/ibm/custom-channels/placebo-20220915-noarch/..  ??.?MB @  ??.?MB/s 0 failed  0.0s\nopt/ibm/custom-channels/placebo-20220915-noarch/..   3.6kB @  87.5MB/s  0.0s\n\u001b[?25h\nPinned packages:\n  - python 3.10.*\n  - python 3.10.*\n  - widgetsnbextension 3.5.2.*\n\n\nTransaction\n\n  Prefix: /opt/conda/envs/Python-3.10\n\n  Updating specs:\n\n   - requests==2.26.0\n   - ca-certificates\n   - certifi\n   - openssl\n\n\n  Package                 Version  Build            Channel                                            Size\n\u2500\u2500\u2500\u2500\u2500\u2500\u2500\u2500\u2500\u2500\u2500\u2500\u2500\u2500\u2500\u2500\u2500\u2500\u2500\u2500\u2500\u2500\u2500\u2500\u2500\u2500\u2500\u2500\u2500\u2500\u2500\u2500\u2500\u2500\u2500\u2500\u2500\u2500\u2500\u2500\u2500\u2500\u2500\u2500\u2500\u2500\u2500\u2500\u2500\u2500\u2500\u2500\u2500\u2500\u2500\u2500\u2500\u2500\u2500\u2500\u2500\u2500\u2500\u2500\u2500\u2500\u2500\u2500\u2500\u2500\u2500\u2500\u2500\u2500\u2500\u2500\u2500\u2500\u2500\u2500\u2500\u2500\u2500\u2500\u2500\u2500\u2500\u2500\u2500\u2500\u2500\u2500\u2500\u2500\u2500\u2500\u2500\u2500\u2500\u2500\u2500\u2500\u2500\u2500\u2500\u2500\u2500\u2500\u2500\n  Downgrade:\n\u2500\u2500\u2500\u2500\u2500\u2500\u2500\u2500\u2500\u2500\u2500\u2500\u2500\u2500\u2500\u2500\u2500\u2500\u2500\u2500\u2500\u2500\u2500\u2500\u2500\u2500\u2500\u2500\u2500\u2500\u2500\u2500\u2500\u2500\u2500\u2500\u2500\u2500\u2500\u2500\u2500\u2500\u2500\u2500\u2500\u2500\u2500\u2500\u2500\u2500\u2500\u2500\u2500\u2500\u2500\u2500\u2500\u2500\u2500\u2500\u2500\u2500\u2500\u2500\u2500\u2500\u2500\u2500\u2500\u2500\u2500\u2500\u2500\u2500\u2500\u2500\u2500\u2500\u2500\u2500\u2500\u2500\u2500\u2500\u2500\u2500\u2500\u2500\u2500\u2500\u2500\u2500\u2500\u2500\u2500\u2500\u2500\u2500\u2500\u2500\u2500\u2500\u2500\u2500\u2500\u2500\u2500\u2500\u2500\n\n\u001b[31m  - ibm-wsrt-py310t2-def\u001b[00m    0.0.0  0                opt/ibm/custom-channels/meta-wscloud                   \n\u001b[32m  + ibm-wsrt-py310t2-def\u001b[00m   custom  0                /opt/ibm/custom-channels/meta-wscloud/noarch        2kB\n\u001b[31m  - requests            \u001b[00m   2.28.1  py310h06a4308_0  pkgs/main                                              \n\u001b[32m  + requests            \u001b[00m   2.26.0  pyhd3eb1b0_0     pkgs/main/noarch                            \u001b[32m     Cached\u001b[00m\n\n  Summary:\n\n  Downgrade: 2 packages\n\n  Total download: 2kB\n\n\u2500\u2500\u2500\u2500\u2500\u2500\u2500\u2500\u2500\u2500\u2500\u2500\u2500\u2500\u2500\u2500\u2500\u2500\u2500\u2500\u2500\u2500\u2500\u2500\u2500\u2500\u2500\u2500\u2500\u2500\u2500\u2500\u2500\u2500\u2500\u2500\u2500\u2500\u2500\u2500\u2500\u2500\u2500\u2500\u2500\u2500\u2500\u2500\u2500\u2500\u2500\u2500\u2500\u2500\u2500\u2500\u2500\u2500\u2500\u2500\u2500\u2500\u2500\u2500\u2500\u2500\u2500\u2500\u2500\u2500\u2500\u2500\u2500\u2500\u2500\u2500\u2500\u2500\u2500\u2500\u2500\u2500\u2500\u2500\u2500\u2500\u2500\u2500\u2500\u2500\u2500\u2500\u2500\u2500\u2500\u2500\u2500\u2500\u2500\u2500\u2500\u2500\u2500\u2500\u2500\u2500\u2500\u2500\u2500\n\n\u001b[?25l\u001b[2K\u001b[0G[+] 0.0s\nDownloading  (1) \u001b[33m\u2501\u2501\u2501\u2501\u2501\u2501\u2501\u2501\u2501\u2501\u2501\u2501\u2501\u2501\u2501\u2501\u2501\u2501\u2501\u2501\u2501\u2501\u2501\u001b[0m   0.0 B ibm-wsrt-py310t2-def       0.0s\nExtracting       \u001b[90m\u2501\u2501\u2501\u2501\u2501\u2501\u2501\u2501\u2501\u2501\u2501\u2501\u2501\u2501\u2501\u2501\u2501\u2501\u2501\u2501\u2501\u2501\u2501\u001b[0m       0                            0.0s\u001b[2K\u001b[1A\u001b[2K\u001b[1A\u001b[2K\u001b[0Gibm-wsrt-py310t2-def                                 1.9kB @  15.9MB/s  0.0s\n[+] 0.1s\nDownloading      \u2501\u2501\u2501\u2501\u2501\u2501\u2501\u2501\u2501\u2501\u2501\u2501\u2501\u2501\u2501\u2501\u2501\u2501\u2501\u2501\u2501\u2501\u2501   1.9kB                            0.1s\nExtracting   (1) \u001b[33m\u2501\u2501\u2501\u2501\u2501\u2501\u2501\u2501\u2501\u2501\u2501\u2501\u2578\u001b[0m\u001b[90m\u2501\u2501\u2501\u2501\u2501\u2501\u2501\u2501\u2501\u2501\u001b[0m       0 ibm-wsrt-py310t2-def       0.0s\u001b[2K\u001b[1A\u001b[2K\u001b[1A\u001b[2K\u001b[0G[+] 0.2s\nDownloading      \u2501\u2501\u2501\u2501\u2501\u2501\u2501\u2501\u2501\u2501\u2501\u2501\u2501\u2501\u2501\u2501\u2501\u2501\u2501\u2501\u2501\u2501\u2501   1.9kB                            0.1s\nExtracting   (1) \u001b[33m\u2501\u2501\u2501\u2501\u2501\u2501\u2501\u2501\u2501\u2501\u2501\u2501\u2501\u2578\u001b[0m\u001b[90m\u2501\u2501\u2501\u2501\u2501\u2501\u2501\u2501\u2501\u001b[0m       0 ibm-wsrt-py310t2-def       0.1s\u001b[2K\u001b[1A\u001b[2K\u001b[1A\u001b[2K\u001b[0G[+] 0.3s\nDownloading      \u2501\u2501\u2501\u2501\u2501\u2501\u2501\u2501\u2501\u2501\u2501\u2501\u2501\u2501\u2501\u2501\u2501\u2501\u2501\u2501\u2501\u2501\u2501   1.9kB                            0.1s\nExtracting   (1) \u001b[33m\u2501\u2501\u2501\u2501\u2501\u2501\u2501\u2501\u2501\u2501\u2501\u2501\u2501\u2501\u2578\u001b[0m\u001b[90m\u2501\u2501\u2501\u2501\u2501\u2501\u2501\u2501\u001b[0m       0 ibm-wsrt-py310t2-def       0.2s\u001b[2K\u001b[1A\u001b[2K\u001b[1A\u001b[2K\u001b[0G[+] 0.4s\nDownloading      \u2501\u2501\u2501\u2501\u2501\u2501\u2501\u2501\u2501\u2501\u2501\u2501\u2501\u2501\u2501\u2501\u2501\u2501\u2501\u2501\u2501\u2501\u2501   1.9kB                            0.1s\nExtracting   (1) \u001b[90m\u2578\u001b[0m\u001b[33m\u2501\u2501\u2501\u2501\u2501\u2501\u2501\u2501\u2501\u2501\u2501\u2501\u2501\u2501\u2501\u2578\u001b[0m\u001b[90m\u2501\u2501\u2501\u2501\u2501\u2501\u001b[0m       0 ibm-wsrt-py310t2-def       0.3s\u001b[2K\u001b[1A\u001b[2K\u001b[1A\u001b[2K\u001b[0G[+] 0.5s\nDownloading      \u2501\u2501\u2501\u2501\u2501\u2501\u2501\u2501\u2501\u2501\u2501\u2501\u2501\u2501\u2501\u2501\u2501\u2501\u2501\u2501\u2501\u2501\u2501   1.9kB                            0.1s\nExtracting   (1) \u001b[90m\u2501\u2578\u001b[0m\u001b[33m\u2501\u2501\u2501\u2501\u2501\u2501\u2501\u2501\u2501\u2501\u2501\u2501\u2501\u2501\u2501\u2578\u001b[0m\u001b[90m\u2501\u2501\u2501\u2501\u2501\u001b[0m       0 ibm-wsrt-py310t2-def       0.4s\u001b[2K\u001b[1A\u001b[2K\u001b[1A\u001b[2K\u001b[0G[+] 0.6s\nDownloading      \u2501\u2501\u2501\u2501\u2501\u2501\u2501\u2501\u2501\u2501\u2501\u2501\u2501\u2501\u2501\u2501\u2501\u2501\u2501\u2501\u2501\u2501\u2501   1.9kB                            0.1s\nExtracting   (1) \u001b[90m\u2501\u2501\u2578\u001b[0m\u001b[33m\u2501\u2501\u2501\u2501\u2501\u2501\u2501\u2501\u2501\u2501\u2501\u2501\u2501\u2501\u2501\u2578\u001b[0m\u001b[90m\u2501\u2501\u2501\u2501\u001b[0m       0 ibm-wsrt-py310t2-def       0.5s\u001b[2K\u001b[1A\u001b[2K\u001b[1A\u001b[2K\u001b[0G[+] 0.7s\nDownloading      \u2501\u2501\u2501\u2501\u2501\u2501\u2501\u2501\u2501\u2501\u2501\u2501\u2501\u2501\u2501\u2501\u2501\u2501\u2501\u2501\u2501\u2501\u2501   1.9kB                            0.1s\nExtracting   (1) \u001b[90m\u2501\u2501\u2501\u2578\u001b[0m\u001b[33m\u2501\u2501\u2501\u2501\u2501\u2501\u2501\u2501\u2501\u2501\u2501\u2501\u2501\u2501\u2501\u2578\u001b[0m\u001b[90m\u2501\u2501\u2501\u001b[0m       0 ibm-wsrt-py310t2-def       0.6s\u001b[2K\u001b[1A\u001b[2K\u001b[1A\u001b[2K\u001b[0G[+] 0.8s\nDownloading      \u2501\u2501\u2501\u2501\u2501\u2501\u2501\u2501\u2501\u2501\u2501\u2501\u2501\u2501\u2501\u2501\u2501\u2501\u2501\u2501\u2501\u2501\u2501   1.9kB                            0.1s\nExtracting   (1) \u001b[90m\u2501\u2501\u2501\u2501\u2578\u001b[0m\u001b[33m\u2501\u2501\u2501\u2501\u2501\u2501\u2501\u2501\u2501\u2501\u2501\u2501\u2501\u2501\u2501\u2578\u001b[0m\u001b[90m\u2501\u2501\u001b[0m       0 ibm-wsrt-py310t2-def       0.7s\u001b[2K\u001b[1A\u001b[2K\u001b[1A\u001b[2K\u001b[0G[+] 0.9s\nDownloading      \u2501\u2501\u2501\u2501\u2501\u2501\u2501\u2501\u2501\u2501\u2501\u2501\u2501\u2501\u2501\u2501\u2501\u2501\u2501\u2501\u2501\u2501\u2501   1.9kB                            0.1s\nExtracting   (1) \u001b[90m\u2501\u2501\u2501\u2501\u2501\u2578\u001b[0m\u001b[33m\u2501\u2501\u2501\u2501\u2501\u2501\u2501\u2501\u2501\u2501\u2501\u2501\u2501\u2501\u2501\u2578\u001b[0m\u001b[90m\u2501\u001b[0m       0 ibm-wsrt-py310t2-def       0.8s\u001b[2K\u001b[1A\u001b[2K\u001b[1A\u001b[2K\u001b[0G[+] 1.0s\nDownloading      \u2501\u2501\u2501\u2501\u2501\u2501\u2501\u2501\u2501\u2501\u2501\u2501\u2501\u2501\u2501\u2501\u2501\u2501\u2501\u2501\u2501\u2501\u2501   1.9kB                            0.1s\nExtracting       \u2501\u2501\u2501\u2501\u2501\u2501\u2501\u2501\u2501\u2501\u2501\u2501\u2501\u2501\u2501\u2501\u2501\u2501\u2501\u2501\u2501\u2501\u2501       1                            0.9s\u001b[2K\u001b[1A\u001b[2K\u001b[1A\u001b[2K\u001b[0G\u001b[?25hPreparing transaction: done\nVerifying transaction: done\nExecuting transaction: done\n",
                    "name": "stdout"
                }
            ]
        },
        {
            "metadata": {},
            "cell_type": "markdown",
            "source": "## Imports\n\nImport any additional libraries you may need here.\n"
        },
        {
            "metadata": {},
            "cell_type": "code",
            "source": "import glob\nimport pandas as pd\nfrom datetime import datetime",
            "execution_count": 21,
            "outputs": []
        },
        {
            "metadata": {},
            "cell_type": "markdown",
            "source": "As the exchange rate fluctuates, we will download the same dataset to make marking simpler. This will be in the same format as the dataset you used in the last section\n"
        },
        {
            "metadata": {},
            "cell_type": "code",
            "source": "!wget https://cf-courses-data.s3.us.cloud-object-storage.appdomain.cloud/IBMDeveloperSkillsNetwork-PY0221EN-SkillsNetwork/labs/module%206/Lab%20-%20Extract%20Transform%20Load/data/bank_market_cap_1.json\n!wget https://cf-courses-data.s3.us.cloud-object-storage.appdomain.cloud/IBMDeveloperSkillsNetwork-PY0221EN-SkillsNetwork/labs/module%206/Lab%20-%20Extract%20Transform%20Load/data/bank_market_cap_2.json\n!wget https://cf-courses-data.s3.us.cloud-object-storage.appdomain.cloud/IBMDeveloperSkillsNetwork-PY0221EN-SkillsNetwork/labs/module%206/Final%20Assignment/exchange_rates.csv",
            "execution_count": 22,
            "outputs": [
                {
                    "output_type": "stream",
                    "text": "--2023-02-08 22:23:59--  https://cf-courses-data.s3.us.cloud-object-storage.appdomain.cloud/IBMDeveloperSkillsNetwork-PY0221EN-SkillsNetwork/labs/module%206/Lab%20-%20Extract%20Transform%20Load/data/bank_market_cap_1.json\nResolving cf-courses-data.s3.us.cloud-object-storage.appdomain.cloud (cf-courses-data.s3.us.cloud-object-storage.appdomain.cloud)... 169.63.118.104\nConnecting to cf-courses-data.s3.us.cloud-object-storage.appdomain.cloud (cf-courses-data.s3.us.cloud-object-storage.appdomain.cloud)|169.63.118.104|:443... connected.\nHTTP request sent, awaiting response... 200 OK\nLength: 2815 (2.7K) [application/json]\nSaving to: \u2018bank_market_cap_1.json.1\u2019\n\nbank_market_cap_1.j 100%[===================>]   2.75K  --.-KB/s    in 0s      \n\n2023-02-08 22:24:00 (63.5 MB/s) - \u2018bank_market_cap_1.json.1\u2019 saved [2815/2815]\n\n--2023-02-08 22:24:01--  https://cf-courses-data.s3.us.cloud-object-storage.appdomain.cloud/IBMDeveloperSkillsNetwork-PY0221EN-SkillsNetwork/labs/module%206/Lab%20-%20Extract%20Transform%20Load/data/bank_market_cap_2.json\nResolving cf-courses-data.s3.us.cloud-object-storage.appdomain.cloud (cf-courses-data.s3.us.cloud-object-storage.appdomain.cloud)... 169.63.118.104\nConnecting to cf-courses-data.s3.us.cloud-object-storage.appdomain.cloud (cf-courses-data.s3.us.cloud-object-storage.appdomain.cloud)|169.63.118.104|:443... connected.\nHTTP request sent, awaiting response... 200 OK\nLength: 1429 (1.4K) [application/json]\nSaving to: \u2018bank_market_cap_2.json.1\u2019\n\nbank_market_cap_2.j 100%[===================>]   1.40K  --.-KB/s    in 0s      \n\n2023-02-08 22:24:02 (44.9 MB/s) - \u2018bank_market_cap_2.json.1\u2019 saved [1429/1429]\n\n--2023-02-08 22:24:03--  https://cf-courses-data.s3.us.cloud-object-storage.appdomain.cloud/IBMDeveloperSkillsNetwork-PY0221EN-SkillsNetwork/labs/module%206/Final%20Assignment/exchange_rates.csv\nResolving cf-courses-data.s3.us.cloud-object-storage.appdomain.cloud (cf-courses-data.s3.us.cloud-object-storage.appdomain.cloud)... 169.63.118.104\nConnecting to cf-courses-data.s3.us.cloud-object-storage.appdomain.cloud (cf-courses-data.s3.us.cloud-object-storage.appdomain.cloud)|169.63.118.104|:443... connected.\nHTTP request sent, awaiting response... 200 OK\nLength: 590 [text/csv]\nSaving to: \u2018exchange_rates.csv.1\u2019\n\nexchange_rates.csv. 100%[===================>]     590  --.-KB/s    in 0s      \n\n2023-02-08 22:24:03 (20.3 MB/s) - \u2018exchange_rates.csv.1\u2019 saved [590/590]\n\n",
                    "name": "stdout"
                }
            ]
        },
        {
            "metadata": {},
            "cell_type": "markdown",
            "source": "## Extract\n"
        },
        {
            "metadata": {},
            "cell_type": "markdown",
            "source": "### JSON Extract Function\n\nThis function will extract JSON files.\n"
        },
        {
            "metadata": {},
            "cell_type": "code",
            "source": "def extract_from_json(file_to_process):\n    dataframe = pd.read_json(file_to_process)\n    return dataframe",
            "execution_count": 23,
            "outputs": []
        },
        {
            "metadata": {},
            "cell_type": "markdown",
            "source": "## Extract Function\n\nDefine the extract function that finds JSON file `bank_market_cap_1.json` and calls the function created above to extract data from them. Store the data in a `pandas` dataframe. Use the following list for the columns.\n"
        },
        {
            "metadata": {},
            "cell_type": "code",
            "source": "columns=['Name','Market Cap (US$ Billion)']",
            "execution_count": 24,
            "outputs": []
        },
        {
            "metadata": {},
            "cell_type": "code",
            "source": "def extract():\n    extracted_data = pd.DataFrame(columns=['Name','Market Cap (US$ Billion)'])\n    #data = pd.DataFrame(columns=['Name','Market Cap (US$ Billion)'])\n    for jsonfile in glob.glob(\"*.json\"):\n        extracted_data = extracted_data.append(extract_from_json(jsonfile), ignore_index=True)\n    return extracted_data\n\n'''def extract():  \n    df = extract_from_json('bank_market_cap_1.json')\n    df.columns = columns\n    return df'''",
            "execution_count": 25,
            "outputs": [
                {
                    "output_type": "execute_result",
                    "execution_count": 25,
                    "data": {
                        "text/plain": "\"def extract():  \\n    df = extract_from_json('bank_market_cap_1.json')\\n    df.columns = columns\\n    return df\""
                    },
                    "metadata": {}
                }
            ]
        },
        {
            "metadata": {},
            "cell_type": "markdown",
            "source": "<b>Question 1</b> Load the file <code>exchange_rates.csv</code> as a dataframe and find the exchange rate for British pounds with the symbol <code>GBP</code>, store it in the variable  <code>exchange_rate</code>, you will be asked for the number. Hint: set the parameter  <code>index_col</code> to 0.\n"
        },
        {
            "metadata": {},
            "cell_type": "code",
            "source": "\ndf = pd.read_csv(\"exchange_rates.csv\", index_col=0)\nexchange_rate = df.at[\"GBP\", \"Rates\"]\n\n",
            "execution_count": 26,
            "outputs": []
        },
        {
            "metadata": {},
            "cell_type": "markdown",
            "source": "## Transform\n\nUsing <code>exchange_rate</code> and the `exchange_rates.csv` file find the exchange rate of USD to GBP. Write a transform function that\n\n1.  Changes the `Market Cap (US$ Billion)` column from USD to GBP\n2.  Rounds the Market Cap (US$ Billion)\\` column to 3 decimal places\n3.  Rename `Market Cap (US$ Billion)` to `Market Cap (GBP$ Billion)`\n"
        },
        {
            "metadata": {},
            "cell_type": "code",
            "source": "def transform(df):\n    rate = exchange_rate.loc['GBP']['Rates']\n    print(rate)\n    df['Market Cap (US$ Billion)'] = df['Market Cap (US$ Billion)'].apply(lambda x: round(x*rate, 3))\n    df.rename({'Market Cap (US$ Billion)' : 'Market Cap (GBP$ Billion)'})\n    return df",
            "execution_count": 27,
            "outputs": []
        },
        {
            "metadata": {},
            "cell_type": "markdown",
            "source": "## Load\n\nCreate a function that takes a dataframe and load it to a csv named `bank_market_cap_gbp.csv`. Make sure to set `index` to `False`.\n"
        },
        {
            "metadata": {},
            "cell_type": "code",
            "source": "def load(df):\n    df.to_csv('bank_market_cap_gbp.csv', index=False)",
            "execution_count": 28,
            "outputs": []
        },
        {
            "metadata": {},
            "cell_type": "markdown",
            "source": "## Logging Function\n"
        },
        {
            "metadata": {},
            "cell_type": "markdown",
            "source": "Write the logging function <code>log</code> to log your data:\n"
        },
        {
            "metadata": {},
            "cell_type": "code",
            "source": "def log(message):\n    timestamp_format = '%Y-%h-%d-%H:%M:%S' # Year-Monthname-Day-Hour-Minute-Second\n    now = datetime.now() # get current timestamp\n    timestamp = now.strftime(timestamp_format)\n    with open(\"logfile.txt\",\"a\") as f:\n        f.write(timestamp + ',' + message + '\\n')",
            "execution_count": 29,
            "outputs": []
        },
        {
            "metadata": {},
            "cell_type": "markdown",
            "source": "## Running the ETL Process\n"
        },
        {
            "metadata": {},
            "cell_type": "markdown",
            "source": "Log the process accordingly using the following <code>\"ETL Job Started\"</code> and <code>\"Extract phase Started\"</code>\n"
        },
        {
            "metadata": {},
            "cell_type": "code",
            "source": "log('ETL Job Started')\nlog('Extract phase Started')",
            "execution_count": 30,
            "outputs": []
        },
        {
            "metadata": {},
            "cell_type": "markdown",
            "source": "### Extract\n"
        },
        {
            "metadata": {},
            "cell_type": "markdown",
            "source": "<code>Question 2</code> Use the function <code>extract</code>, and print the first 5 rows, take a screen shot:\n"
        },
        {
            "metadata": {},
            "cell_type": "code",
            "source": "# Call the function here\ndf = extract()\n# Print the rows here\ndf.head()\nrate = exchange_rate.loc['GBP']['Rates']\nprint(rate)",
            "execution_count": 32,
            "outputs": [
                {
                    "output_type": "stream",
                    "text": "/tmp/wsuser/ipykernel_164/315712166.py:5: FutureWarning: The frame.append method is deprecated and will be removed from pandas in a future version. Use pandas.concat instead.\n  extracted_data = extracted_data.append(extract_from_json(jsonfile), ignore_index=True)\n/tmp/wsuser/ipykernel_164/315712166.py:5: FutureWarning: The frame.append method is deprecated and will be removed from pandas in a future version. Use pandas.concat instead.\n  extracted_data = extracted_data.append(extract_from_json(jsonfile), ignore_index=True)\n",
                    "name": "stderr"
                },
                {
                    "output_type": "error",
                    "ename": "AttributeError",
                    "evalue": "'numpy.float64' object has no attribute 'loc'",
                    "traceback": [
                        "\u001b[0;31m---------------------------------------------------------------------------\u001b[0m",
                        "\u001b[0;31mAttributeError\u001b[0m                            Traceback (most recent call last)",
                        "Input \u001b[0;32mIn [32]\u001b[0m, in \u001b[0;36m<cell line: 5>\u001b[0;34m()\u001b[0m\n\u001b[1;32m      3\u001b[0m \u001b[38;5;66;03m# Print the rows here\u001b[39;00m\n\u001b[1;32m      4\u001b[0m df\u001b[38;5;241m.\u001b[39mhead()\n\u001b[0;32m----> 5\u001b[0m rate \u001b[38;5;241m=\u001b[39m \u001b[43mexchange_rate\u001b[49m\u001b[38;5;241;43m.\u001b[39;49m\u001b[43mloc\u001b[49m[\u001b[38;5;124m'\u001b[39m\u001b[38;5;124mGBP\u001b[39m\u001b[38;5;124m'\u001b[39m][\u001b[38;5;124m'\u001b[39m\u001b[38;5;124mRates\u001b[39m\u001b[38;5;124m'\u001b[39m]\n\u001b[1;32m      6\u001b[0m \u001b[38;5;28mprint\u001b[39m(rate)\n",
                        "\u001b[0;31mAttributeError\u001b[0m: 'numpy.float64' object has no attribute 'loc'"
                    ]
                }
            ]
        },
        {
            "metadata": {},
            "cell_type": "markdown",
            "source": "Log the data as <code>\"Extract phase Ended\"</code>\n"
        },
        {
            "metadata": {},
            "cell_type": "code",
            "source": "log('Extract phase Ended')",
            "execution_count": null,
            "outputs": []
        },
        {
            "metadata": {},
            "cell_type": "markdown",
            "source": "### Transform\n"
        },
        {
            "metadata": {},
            "cell_type": "markdown",
            "source": "Log the following  <code>\"Transform phase Started\"</code>\n"
        },
        {
            "metadata": {},
            "cell_type": "code",
            "source": "log('Transform phase Started')\n",
            "execution_count": null,
            "outputs": []
        },
        {
            "metadata": {},
            "cell_type": "markdown",
            "source": "<code>Question 3</code> Use the function <code>transform</code> and print the first 5 rows of the output, take a screen shot:\n"
        },
        {
            "metadata": {},
            "cell_type": "code",
            "source": "# Call the function here\ndf = transform(df)\n# Print the first 5 rows here\ndf.head()",
            "execution_count": null,
            "outputs": []
        },
        {
            "metadata": {},
            "cell_type": "markdown",
            "source": "Log your data <code>\"Transform phase Ended\"</code>\n"
        },
        {
            "metadata": {},
            "cell_type": "code",
            "source": "# Write your code here\nlog('Transform phase Ended')",
            "execution_count": null,
            "outputs": []
        },
        {
            "metadata": {},
            "cell_type": "markdown",
            "source": "### Load\n"
        },
        {
            "metadata": {},
            "cell_type": "markdown",
            "source": "Log the following `\"Load phase Started\"`.\n"
        },
        {
            "metadata": {},
            "cell_type": "code",
            "source": "# Write your code here\nlog('Load phase Started')",
            "execution_count": null,
            "outputs": []
        },
        {
            "metadata": {},
            "cell_type": "markdown",
            "source": "Call the load function\n"
        },
        {
            "metadata": {},
            "cell_type": "code",
            "source": "# Write your code here\nload(df)",
            "execution_count": null,
            "outputs": []
        },
        {
            "metadata": {},
            "cell_type": "markdown",
            "source": "Log the following `\"Load phase Ended\"`.\n"
        },
        {
            "metadata": {},
            "cell_type": "code",
            "source": "# Write your code here\nlog('Load phase Ended')",
            "execution_count": null,
            "outputs": []
        },
        {
            "metadata": {},
            "cell_type": "markdown",
            "source": "## Authors\n"
        },
        {
            "metadata": {},
            "cell_type": "markdown",
            "source": "Ramesh Sannareddy, Joseph Santrcangelo and Azim Hirjani\n"
        },
        {
            "metadata": {},
            "cell_type": "markdown",
            "source": "### Other Contributors\n"
        },
        {
            "metadata": {},
            "cell_type": "markdown",
            "source": "Rav Ahuja\n"
        },
        {
            "metadata": {},
            "cell_type": "markdown",
            "source": "## Change Log\n"
        },
        {
            "metadata": {},
            "cell_type": "markdown",
            "source": "| Date (YYYY-MM-DD) | Version | Changed By        | Change Description                 |\n| ----------------- | ------- | ----------------- | ---------------------------------- |\n| 2020-11-25        | 0.1     | Ramesh Sannareddy | Created initial version of the lab |\n"
        },
        {
            "metadata": {},
            "cell_type": "markdown",
            "source": "Copyright \u00a9 2020 IBM Corporation. This notebook and its source code are released under the terms of the [MIT License](https://cognitiveclass.ai/mit-license?utm_medium=Exinfluencer&utm_source=Exinfluencer&utm_content=000026UJ&utm_term=10006555&utm_id=NA-SkillsNetwork-Channel-SkillsNetworkCoursesIBMDeveloperSkillsNetworkPY0221ENSkillsNetwork23455645-2022-01-01&cm_mmc=Email_Newsletter-\\_-Developer_Ed%2BTech-\\_-WW_WW-\\_-SkillsNetwork-Courses-IBM-DA0321EN-SkillsNetwork-21426264&cm_mmca1=000026UJ&cm_mmca2=10006555&cm_mmca3=M12345678&cvosrc=email.Newsletter.M12345678&cvo_campaign=000026UJ).\n"
        }
    ],
    "metadata": {
        "kernelspec": {
            "name": "python3",
            "display_name": "Python 3.10",
            "language": "python"
        },
        "language_info": {
            "name": "python",
            "version": "3.10.6",
            "mimetype": "text/x-python",
            "codemirror_mode": {
                "name": "ipython",
                "version": 3
            },
            "pygments_lexer": "ipython3",
            "nbconvert_exporter": "python",
            "file_extension": ".py"
        }
    },
    "nbformat": 4,
    "nbformat_minor": 4
}